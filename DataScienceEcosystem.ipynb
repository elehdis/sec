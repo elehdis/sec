{
 "cells": [
  {
   "cell_type": "markdown",
   "id": "14e77b6b",
   "metadata": {},
   "source": [
    "# Data Science Tools and Ecosystem"
   ]
  },
  {
   "cell_type": "markdown",
   "id": "4e669ac6",
   "metadata": {},
   "source": [
    "In this notebook, Data Science Tools and Ecosystem are summarized."
   ]
  },
  {
   "cell_type": "markdown",
   "id": "176374f0",
   "metadata": {},
   "source": [
    "**Objectives:**\n",
    "- List popular languages for Data Science.\n",
    "- Provide examples of evaluating arithmetic expressions in Python.\n",
    "- Perform simple arithmetic operations in code cells.\n",
    "- Convert units of time (minutes to hours) using Python.\n",
    "- Add author details to the notebook."
   ]
  },
  {
   "cell_type": "markdown",
   "id": "0872d231",
   "metadata": {},
   "source": [
    "1. python\n",
    "2. scala\n",
    "3. R"
   ]
  },
  {
   "cell_type": "markdown",
   "id": "33d38799",
   "metadata": {},
   "source": [
    "1. scikit-learn\n",
    "2. tensorflow\n",
    "3. numpy"
   ]
  },
  {
   "cell_type": "markdown",
   "id": "9d6ac810",
   "metadata": {},
   "source": [
    "| Data |\n",
    "| ------------------------ |\n",
    "| RStudio |\n",
    "| Spyder |\n",
    "| JupyterLab |"
   ]
  },
  {
   "cell_type": "markdown",
   "id": "5f2b8532",
   "metadata": {},
   "source": [
    "### Below are a few examples of evaluating arithmetic expressions in Python."
   ]
  },
  {
   "cell_type": "code",
   "execution_count": 4,
   "id": "5cb06582",
   "metadata": {},
   "outputs": [
    {
     "data": {
      "text/plain": [
       "17"
      ]
     },
     "execution_count": 4,
     "metadata": {},
     "output_type": "execute_result"
    }
   ],
   "source": [
    "# This is a simple arithmetic expression to multiply then add integers.\n",
    "result = (3 * 4) + 5\n",
    "result"
   ]
  },
  {
   "cell_type": "code",
   "execution_count": 6,
   "id": "8945c227",
   "metadata": {},
   "outputs": [
    {
     "data": {
      "text/plain": [
       "3.3333333333333335"
      ]
     },
     "execution_count": 6,
     "metadata": {},
     "output_type": "execute_result"
    }
   ],
   "source": [
    "# This will convert 200 minutes to hours by dividing by 60.\n",
    "minutes = 200\n",
    "hours = minutes / 60\n",
    "hours"
   ]
  },
  {
   "cell_type": "markdown",
   "id": "35c05af0",
   "metadata": {},
   "source": [
    "## Author\n",
    "Elmehdi Smili"
   ]
  }
 ],
 "metadata": {
  "kernelspec": {
   "display_name": "Python 3 (ipykernel)",
   "language": "python",
   "name": "python3"
  },
  "language_info": {
   "codemirror_mode": {
    "name": "ipython",
    "version": 3
   },
   "file_extension": ".py",
   "mimetype": "text/x-python",
   "name": "python",
   "nbconvert_exporter": "python",
   "pygments_lexer": "ipython3",
   "version": "3.11.5"
  }
 },
 "nbformat": 4,
 "nbformat_minor": 5
}
